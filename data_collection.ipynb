{
  "cells": [
    {
      "cell_type": "markdown",
      "metadata": {
        "id": "hfAqOLWCOJU5"
      },
      "source": [
        "Data Collection Pipeline from Google Earth Engine"
      ]
    },
    {
      "cell_type": "code",
      "execution_count": null,
      "metadata": {
        "id": "S7o3HrSMKAs4"
      },
      "outputs": [],
      "source": [
        "import ee\n",
        "import time\n",
        "from datetime import datetime\n",
        "\n",
        "# Initialize Earth Engine\n",
        "ee.Authenticate()\n",
        "ee.Initialize(project = 'dm-sentinel-2')"
      ]
    },
    {
      "cell_type": "code",
      "execution_count": null,
      "metadata": {
        "id": "n32yk3MmKB4u"
      },
      "outputs": [],
      "source": [
        "# Define Phoenix ROI\n",
        "def get_phoenix_roi():\n",
        "    phoenix_coords = [\n",
        "        [-112.3244, 33.2903],\n",
        "        [-112.3244, 33.8153],\n",
        "        [-111.9255, 33.8153],\n",
        "        [-111.9255, 33.2903],\n",
        "        [-112.3244, 33.2903]\n",
        "    ]\n",
        "    return ee.Geometry.Polygon([phoenix_coords])"
      ]
    },
    {
      "cell_type": "code",
      "execution_count": null,
      "metadata": {
        "id": "tHp7MHuyKTWZ"
      },
      "outputs": [],
      "source": [
        "# Split ROI into tiles (~51km² each)\n",
        "def split_roi(roi, tile_size_m=5120, scale=10):\n",
        "    bounds = roi.bounds().coordinates().getInfo()[0]\n",
        "    minx, miny = bounds[0][0], bounds[0][1]\n",
        "    maxx, maxy = bounds[2][0], bounds[2][1]\n",
        "\n",
        "    lon_tiles = int((maxx - minx) * 111000 // tile_size_m) + 1\n",
        "    lat_tiles = int((maxy - miny) * 111000 // tile_size_m) + 1\n",
        "\n",
        "    tiles = []\n",
        "    for i in range(lon_tiles):\n",
        "        for j in range(lat_tiles):\n",
        "            x0 = minx + i * (tile_size_m / 111000)\n",
        "            x1 = minx + (i + 1) * (tile_size_m / 111000)\n",
        "            y0 = miny + j * (tile_size_m / 111000)\n",
        "            y1 = miny + (j + 1) * (tile_size_m / 111000)\n",
        "            tile = ee.Geometry.Rectangle([x0, y0, x1, y1])\n",
        "            tiles.append(tile)\n",
        "    return tiles"
      ]
    },
    {
      "cell_type": "code",
      "execution_count": null,
      "metadata": {
        "id": "AUQmS2taKDD9"
      },
      "outputs": [],
      "source": [
        "# Quarter date mapping\n",
        "quarters = {\n",
        "    1: (\"01-01\", \"03-31\"),\n",
        "    2: (\"04-01\", \"06-30\"),\n",
        "    3: (\"07-01\", \"09-30\"),\n",
        "    4: (\"10-01\", \"12-31\"),\n",
        "}\n"
      ]
    },
    {
      "cell_type": "code",
      "execution_count": null,
      "metadata": {
        "id": "53HoUVQFKEIL"
      },
      "outputs": [],
      "source": [
        "# Cloud masking for Sentinel-2 using SCL\n",
        "def mask_sentinel_clouds(img):\n",
        "    scl = img.select(\"SCL\")\n",
        "    mask = scl.neq(3).And(scl.neq(8)).And(scl.neq(9)).And(scl.neq(10))  # exclude cloud, cirrus, shadows\n",
        "    return img.updateMask(mask)"
      ]
    },
    {
      "cell_type": "code",
      "execution_count": null,
      "metadata": {
        "id": "3yYt0qszKGmg"
      },
      "outputs": [],
      "source": [
        "# Get quarterly image: Sentinel-2 for >= 2017, Landsat for < 2017\n",
        "def get_quarterly_image(year, quarter, roi):\n",
        "    start, end = quarters[quarter]\n",
        "    start_date = f\"{year}-{start}\"\n",
        "    end_date = f\"{year}-{end}\"\n",
        "\n",
        "    if year >= 2017:\n",
        "        # Sentinel-2 L2A\n",
        "        collection = (\n",
        "            ee.ImageCollection(\"COPERNICUS/S2_SR\")\n",
        "            .filterDate(start_date, end_date)\n",
        "            .filterBounds(roi)\n",
        "            .filter(ee.Filter.lt(\"CLOUDY_PIXEL_PERCENTAGE\", 20))\n",
        "            .map(mask_sentinel_clouds)\n",
        "        )\n",
        "\n",
        "        count = collection.size().getInfo()\n",
        "        if count == 0:\n",
        "            print(f\"No Sentinel-2 images for {year} Q{quarter}\")\n",
        "            return None\n",
        "\n",
        "        image = collection.median().clip(roi).select([\"B4\", \"B3\", \"B2\"]).divide(10000)  # RGB, scaled to 0–1\n",
        "\n",
        "    else:\n",
        "        # Landsat (merged from 5, 7, 8, 9)\n",
        "        collection = (\n",
        "            ee.ImageCollection(\"LANDSAT/LT05/C02/T1_L2\")\n",
        "            .merge(ee.ImageCollection(\"LANDSAT/LE07/C02/T1_L2\"))\n",
        "            .merge(ee.ImageCollection(\"LANDSAT/LC08/C02/T1_L2\"))\n",
        "            .merge(ee.ImageCollection(\"LANDSAT/LC09/C02/T1_L2\"))\n",
        "            .filterDate(start_date, end_date)\n",
        "            .filterBounds(roi)\n",
        "            .filter(ee.Filter.lt(\"CLOUD_COVER\", 20))\n",
        "        )\n",
        "\n",
        "        count = collection.size().getInfo()\n",
        "        if count == 0:\n",
        "            print(f\"No Landsat images for {year} Q{quarter}\")\n",
        "            return None\n",
        "\n",
        "        image = collection.median().clip(roi).select([\"SR_B4\", \"SR_B3\", \"SR_B2\"])  # RGB\n",
        "        image = image.multiply(0.0000275).add(-0.2)  # scale reflectance to 0–1\n",
        "\n",
        "    return image"
      ]
    },
    {
      "cell_type": "code",
      "execution_count": null,
      "metadata": {
        "id": "lTUGNsMuKXSO"
      },
      "outputs": [],
      "source": [
        "# Export image tile with retry\n",
        "def export_image_tile(image, year, quarter, tile, tile_id, scale, retries=3):\n",
        "    name = f\"Phoenix_{year}_Q{quarter}_T{tile_id}\"\n",
        "    for attempt in range(retries):\n",
        "        try:\n",
        "            task = ee.batch.Export.image.toDrive(\n",
        "                image=image,\n",
        "                description=name,\n",
        "                folder=\"Phoenix_Quarterly_Images\",\n",
        "                fileNamePrefix=name,\n",
        "                region=tile.getInfo()['coordinates'],\n",
        "                scale=scale,\n",
        "                maxPixels=1e13\n",
        "            )\n",
        "            task.start()\n",
        "            print(f\"[{datetime.now()}] Export started: {name}\")\n",
        "            return task\n",
        "        except Exception as e:\n",
        "            print(f\"Retry {attempt + 1}/{retries} for {name}: {e}\")\n",
        "            time.sleep(5)\n",
        "    print(f\"Failed all retries for {name}\")\n",
        "    return None"
      ]
    },
    {
      "cell_type": "code",
      "execution_count": null,
      "metadata": {
        "id": "pfsvP3k1KLPH"
      },
      "outputs": [],
      "source": [
        "# Export image to Google Drive\n",
        "def export_image(image, year, quarter, roi):\n",
        "    name = f\"Phoenix_{year}_Q{quarter}\"\n",
        "    task = ee.batch.Export.image.toDrive(\n",
        "        image=image,\n",
        "        description=name,\n",
        "        folder=\"Phoenix_Quarterly_Images\",\n",
        "        fileNamePrefix=name,\n",
        "        region=roi.coordinates().getInfo(),\n",
        "        scale=10 if year >= 2017 else 30,  # Sentinel: 10m, Landsat: 30m\n",
        "        maxPixels=1e13\n",
        "    )\n",
        "    task.start()\n",
        "    print(f\"[{datetime.now()}] Export started: {name}\")\n",
        "    return task"
      ]
    },
    {
      "cell_type": "code",
      "execution_count": null,
      "metadata": {
        "id": "7EJFVAJqKNEl"
      },
      "outputs": [],
      "source": [
        "# Wait for all tasks to complete\n",
        "def wait_for_tasks(tasks):\n",
        "    print(\"\\n🔄 Monitoring export tasks...\")\n",
        "    while any(t.status()['state'] in ['READY', 'RUNNING'] for t in tasks):\n",
        "        for t in tasks:\n",
        "            status = t.status()\n",
        "            print(f\"  {t.id} - {status['state']}\")\n",
        "        time.sleep(30)\n",
        "    print(\"\\n All export tasks completed.\")"
      ]
    },
    {
      "cell_type": "code",
      "execution_count": null,
      "metadata": {
        "colab": {
          "base_uri": "https://localhost:8080/",
          "height": 1000
        },
        "id": "dC5a3BrxKOuD",
        "outputId": "a9c3ddb9-7531-4590-a342-a1e8c84ac2b2"
      },
      "outputs": [],
      "source": [
        "# Main orchestrator\n",
        "def run_pipeline(start_year=1984, end_year=2024):\n",
        "    roi = get_phoenix_roi()\n",
        "    tiles = 9\n",
        "    tasks = []\n",
        "\n",
        "    for year in range(start_year, end_year + 1):\n",
        "        for quarter in range(1, 5):\n",
        "            image = get_quarterly_image(year, quarter, roi)\n",
        "            if image is None:\n",
        "                continue\n",
        "\n",
        "            scale = 10 if year >= 2017 else 30\n",
        "\n",
        "            for idx, tile in enumerate(tiles):\n",
        "                task = export_image_tile(image, year, quarter, tile, idx + 1, scale)\n",
        "                if task:\n",
        "                    tasks.append(task)\n",
        "                time.sleep(1.5)\n",
        "\n",
        "    wait_for_tasks(tasks)\n",
        "if __name__ == \"__main__\":\n",
        "    run_pipeline()"
      ]
    }
  ],
  "metadata": {
    "colab": {
      "provenance": []
    },
    "kernelspec": {
      "display_name": "Python 3",
      "name": "python3"
    },
    "language_info": {
      "name": "python"
    }
  },
  "nbformat": 4,
  "nbformat_minor": 0
}
