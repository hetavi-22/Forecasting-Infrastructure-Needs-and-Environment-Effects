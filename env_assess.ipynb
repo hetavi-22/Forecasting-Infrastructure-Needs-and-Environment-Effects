{
 "cells": [
  {
   "cell_type": "code",
   "execution_count": null,
   "metadata": {},
   "outputs": [],
   "source": [
    "import pandas as pd\n",
    "\n",
    "baseline_df = pd.read_csv(\"yolov8_counts_and_class.csv\")\n",
    "forecast_df = pd.read_csv(\"gnn_forecast_2025_2030.csv\")\n",
    "\n",
    "report = []\n",
    "\n",
    "for image_id in forecast_df[\"image_id\"].unique():\n",
    "    baseline_row = baseline_df[baseline_df[\"image_id\"] == image_id]\n",
    "    if baseline_row.empty:\n",
    "        continue\n",
    "    \n",
    "    baseline_veg = int(baseline_row[\"vegetation\"].values[0])\n",
    "    baseline_const = int(baseline_row[\"construction_zones\"].values[0])\n",
    "\n",
    "    for year in range(2025, 2031):\n",
    "        row = forecast_df[(forecast_df[\"image_id\"] == image_id) & (forecast_df[\"year\"] == year)]\n",
    "        if row.empty:\n",
    "            continue\n",
    "\n",
    "        current_veg = int(row[\"vegetation\"].values[0]) if \"vegetation\" in row else max(baseline_veg - 1, 1) \n",
    "        current_const = int(row[\"construction_zones\"].values[0])\n",
    "\n",
    "        vlr = round((baseline_veg - current_veg) / baseline_veg, 2)\n",
    "        ri = round((current_veg - baseline_veg) / baseline_veg, 2) if current_veg > baseline_veg else 0\n",
    "        cgr = round(current_const / current_veg, 2) if current_veg != 0 else \"inf\"\n",
    "\n",
    "        # Region-specific note (mocked for now)\n",
    "        insight = \"Recovery zone candidate\" if ri > 0.15 else \"High risk of degradation\" if vlr > 0.25 else \"Stable\"\n",
    "\n",
    "        report.append({\n",
    "            \"image_id\": image_id,\n",
    "            \"year\": year,\n",
    "            \"vegetation\": current_veg,\n",
    "            \"construction_zones\": current_const,\n",
    "            \"vegetation_loss_rate\": vlr,\n",
    "            \"recovery_index\": ri,\n",
    "            \"construction_to_green_ratio\": cgr,\n",
    "            \"region_insight\": insight\n",
    "        })\n",
    "\n",
    "pd.DataFrame(report).to_csv(\"results/environmental_impact_report.csv\", index=False)\n",
    "print(\"Environmental impact assessment saved to: results/environmental_impact_report.csv\")\n"
   ]
  }
 ],
 "metadata": {
  "language_info": {
   "name": "python"
  }
 },
 "nbformat": 4,
 "nbformat_minor": 2
}
