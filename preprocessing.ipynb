{
  "cells": [
    {
      "cell_type": "markdown",
      "metadata": {
        "id": "Toiyb_xtOFyW"
      },
      "source": [
        "Preprocessing Images"
      ]
    },
    {
      "cell_type": "code",
      "execution_count": null,
      "metadata": {
        "id": "5O48N8PeYSQ5"
      },
      "outputs": [],
      "source": [
        "import os\n",
        "import cv2\n",
        "import numpy as np\n",
        "from glob import glob\n",
        "from tqdm import tqdm\n",
        "import torch\n",
        "from albumentations import (HorizontalFlip, VerticalFlip, RandomBrightnessContrast,\n",
        "                            ShiftScaleRotate, Resize, Compose)"
      ]
    },
    {
      "cell_type": "code",
      "execution_count": null,
      "metadata": {
        "colab": {
          "base_uri": "https://localhost:8080/"
        },
        "id": "08XnGJN_TN7G",
        "outputId": "bb90d24f-0b84-4866-8e5a-c71771a0871b"
      },
      "outputs": [],
      "source": [
        "!wget https://downloads.rclone.org/v1.69.1/rclone-v1.69.1-linux-amd64.deb\n",
        "!apt install ./rclone-v1.69.1-linux-amd64.deb"
      ]
    },
    {
      "cell_type": "code",
      "execution_count": null,
      "metadata": {
        "colab": {
          "base_uri": "https://localhost:8080/"
        },
        "id": "iIky0kJbPNzd",
        "outputId": "65287e66-5fed-41e5-be1a-724d014e8161"
      },
      "outputs": [],
      "source": [
        "!rclone config"
      ]
    },
    {
      "cell_type": "code",
      "execution_count": null,
      "metadata": {
        "colab": {
          "base_uri": "https://localhost:8080/"
        },
        "id": "n2p1m3P4OQWI",
        "outputId": "9aad27a0-ceab-4a89-847d-1eadff6e8f6e"
      },
      "outputs": [],
      "source": [
        "!mkdir -p /content/onedrive_raw\n",
        "!nohup rclone --vfs-cache-mode writes mount onedrive: /content/onedrive_raw &\n"
      ]
    },
    {
      "cell_type": "code",
      "execution_count": null,
      "metadata": {
        "colab": {
          "base_uri": "https://localhost:8080/"
        },
        "id": "Xpep9qxqW6oN",
        "outputId": "17c6348f-d98e-4aed-9ece-169ccbf62e7d"
      },
      "outputs": [],
      "source": [
        "!rclone copy onedrive:\"DM_Quarterly_Images\" /content/onedrive_raw -v"
      ]
    },
    {
      "cell_type": "code",
      "execution_count": null,
      "metadata": {
        "id": "82tgrA02OS0-"
      },
      "outputs": [],
      "source": [
        "RAW_IMAGE_DIR = \"/content/onedrive_raw\"\n",
        "LOCAL_OUTPUT_DIR = \"images\"\n",
        "LOCAL_METADATA_CSV = os.path.join(LOCAL_OUTPUT_DIR, \"ndvi_metadata.csv\")\n",
        "ONEDRIVE_OUTPUT_DIR = \"onedrive:DM_Quarterly_Processed\"\n",
        "IMAGE_SIZE = (256, 256)\n",
        "AUG_PER_IMAGE = 2\n",
        "USE_GPU = torch.cuda.is_available()\n",
        "\n",
        "os.makedirs(LOCAL_OUTPUT_DIR, exist_ok=True)"
      ]
    },
    {
      "cell_type": "code",
      "execution_count": null,
      "metadata": {
        "colab": {
          "base_uri": "https://localhost:8080/"
        },
        "id": "WSwbqhymOVxh",
        "outputId": "24fbca75-6a79-466c-880b-f069e8e685f1"
      },
      "outputs": [],
      "source": [
        "preprocess = Resize(height=IMAGE_SIZE[0], width=IMAGE_SIZE[1])\n",
        "augmentations = Compose([\n",
        "    HorizontalFlip(p=0.5),\n",
        "    VerticalFlip(p=0.5),\n",
        "    RandomBrightnessContrast(p=0.3),\n",
        "    ShiftScaleRotate(shift_limit=0.05, scale_limit=0.1, rotate_limit=15, p=0.5)\n",
        "])"
      ]
    },
    {
      "cell_type": "code",
      "execution_count": null,
      "metadata": {
        "colab": {
          "base_uri": "https://localhost:8080/"
        },
        "id": "W3zZ0gUBOcBQ",
        "outputId": "f72258a2-858f-46ee-e8ec-77bc22427b20"
      },
      "outputs": [],
      "source": [
        "image_paths = glob(os.path.join(RAW_IMAGE_DIR, \"*.tif\"))\n",
        "print(f\"Found {len(image_paths)} images.\")\n",
        "\n",
        "metadata = []\n",
        "\n",
        "for path in tqdm(image_paths):\n",
        "    try:\n",
        "        image = cv2.imread(path, cv2.IMREAD_UNCHANGED)\n",
        "        if image is None or image.shape[0] < 64:\n",
        "            continue\n",
        "\n",
        "        # Resize and normalize\n",
        "        image = preprocess(image=image)['image']\n",
        "        image = image.astype(np.float32) / 255.0\n",
        "\n",
        "        # NDVI Calculation (assuming NIR = channel 3, Red = channel 0)\n",
        "        if image.shape[2] >= 4:\n",
        "            nir = image[:, :, 3]\n",
        "            red = image[:, :, 0]\n",
        "        else:\n",
        "            nir = image[:, :, 1]\n",
        "            red = image[:, :, 0]\n",
        "\n",
        "        ndvi = (nir - red) / (nir + red + 1e-5)\n",
        "        ndvi_mean = float(np.mean(ndvi))\n",
        "\n",
        "        # Move image to GPU if available\n",
        "        if USE_GPU:\n",
        "            image_tensor = torch.tensor(image).cuda()\n",
        "            image_np = image_tensor.cpu().numpy()\n",
        "        else:\n",
        "            image_np = image\n",
        "\n",
        "        # Save original processed image\n",
        "        fname = os.path.splitext(os.path.basename(path))[0]\n",
        "        np.save(os.path.join(LOCAL_OUTPUT_DIR, f\"{fname}.tif\"), image_np)\n",
        "\n",
        "        # Augment and save\n",
        "        for i in range(AUG_PER_IMAGE):\n",
        "            aug_img = augmentations(image=image_np)['image']\n",
        "            np.save(os.path.join(LOCAL_OUTPUT_DIR, f\"{fname}_aug{i+1}.npy\"), aug_img)\n",
        "\n",
        "    except Exception as e:\n",
        "        print(f\"Error processing {path}: {e}\")\n"
      ]
    },
    {
      "cell_type": "code",
      "execution_count": null,
      "metadata": {
        "colab": {
          "base_uri": "https://localhost:8080/"
        },
        "id": "gYH758hwOcjI",
        "outputId": "888a1585-7f42-4e28-b6fe-a3a4a7f3118b"
      },
      "outputs": [],
      "source": [
        "!rclone copy /content/processed_images {ONEDRIVE_OUTPUT_DIR} -v\n",
        "\n",
        "print(\"✅ Preprocessing and augmentation complete. Data saved to OneDrive.\")"
      ]
    }
  ],
  "metadata": {
    "colab": {
      "provenance": []
    },
    "kernelspec": {
      "display_name": "Python 3",
      "name": "python3"
    },
    "language_info": {
      "name": "python"
    }
  },
  "nbformat": 4,
  "nbformat_minor": 0
}
